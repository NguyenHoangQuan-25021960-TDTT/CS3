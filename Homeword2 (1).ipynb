{
 "cells": [
  {
   "cell_type": "code",
   "execution_count": 19,
   "id": "151746d8-e921-46e4-a6d7-70768ffa1f86",
   "metadata": {},
   "outputs": [
    {
     "name": "stdin",
     "output_type": "stream",
     "text": [
      "Chiều dài: 10\n",
      " Chiều rộng: 5\n"
     ]
    },
    {
     "name": "stdout",
     "output_type": "stream",
     "text": [
      " Chu vi hình chữ nhật là: 30.0\n",
      " Diện tích hình chữ nhật là: 50.0\n"
     ]
    }
   ],
   "source": [
    "#Bai1\n",
    "a = float(input( \"Chiều dài:\"))\n",
    "b = float(input( \" Chiều rộng:\"))\n",
    "Chu_vi = (a + b)*2\n",
    "Dien_tich = a*b\n",
    "print(f' Chu vi hình chữ nhật là: {Chu_vi}')\n",
    "print(f' Diện tích hình chữ nhật là: {Dien_tich}')"
   ]
  },
  {
   "cell_type": "code",
   "execution_count": 5,
   "id": "bd07e76d-0684-40c4-a49f-1393816715a8",
   "metadata": {},
   "outputs": [
    {
     "name": "stdin",
     "output_type": "stream",
     "text": [
      " Bán kính hình tròn là: 5\n"
     ]
    },
    {
     "name": "stdout",
     "output_type": "stream",
     "text": [
      " Chu vi hình tròn là: 31.41592653589793\n",
      " Diện tích hình tròn là: 78.53981633974483\n"
     ]
    }
   ],
   "source": [
    "#Bai2\n",
    "import math\n",
    "r = float(input(\" Bán kính hình tròn là:\"))\n",
    "Chu_vi = math.pi * 2 * r\n",
    "Dien_tich = math.pi * r**2\n",
    "print(f' Chu vi hình tròn là: {Chu_vi}')\n",
    "print(f' Diện tích hình tròn là: {Dien_tich}')"
   ]
  },
  {
   "cell_type": "code",
   "execution_count": 1,
   "id": "4b558c6f-f839-4b5f-91bb-308f067372e0",
   "metadata": {},
   "outputs": [
    {
     "name": "stdin",
     "output_type": "stream",
     "text": [
      " Nhập ba số a, b, c:  1 3 5\n"
     ]
    },
    {
     "name": "stdout",
     "output_type": "stream",
     "text": [
      " Không phải ba cạnh của một tam giác\n"
     ]
    }
   ],
   "source": [
    "#Bai3\n",
    "import math\n",
    "a, b, c = map(float, input(\" Nhập ba số a, b, c: \").split())\n",
    "if a + b <= c or a + c <= b or b + c <= a:\n",
    "    print(\" Không phải ba cạnh của một tam giác\")\n",
    "else:\n",
    "    Chu_vi = a + b + c\n",
    "    p= (a + b + c)/2\n",
    "    Dien_tich = math.sqrt( p * (p - a) * (p - b) * (p - c))\n",
    "    print(f' Diện tích của tam giác là: {Dien_tich}')\n",
    "    print(f' Chu vi của tam giác là: {Chu_vi}')\n",
    "    if a == b == c:\n",
    "        print(\" Là ba cạnh của tam giác đều \")\n",
    "    elif a == b != c or a == c != b or b == c != a:\n",
    "        print(\" Là ba cạnh của tam giác cân\")\n",
    "    elif a*a == b*b + c*c or b*b == a*a + c*c or c*c == a*a + b*b:\n",
    "        print(\" Là ba cạnh của tam giác vuông \")\n",
    "    else:\n",
    "        print(\" Là ba cạnh của tam giác thường\")\n",
    "        \n",
    "    "
   ]
  },
  {
   "cell_type": "code",
   "execution_count": 18,
   "id": "fea8a85e-3f65-42c8-bfe2-43e8f1c7da5d",
   "metadata": {},
   "outputs": [
    {
     "name": "stdin",
     "output_type": "stream",
     "text": [
      " Nhập số a: 2 \n",
      " Nhập số b: -10\n"
     ]
    },
    {
     "name": "stdout",
     "output_type": "stream",
     "text": [
      " Phương trình ax +b = 0 có nghiệm là:5.0\n"
     ]
    }
   ],
   "source": [
    "#Bai4\n",
    "a = float(input(\" Nhập số a:\"))\n",
    "b = float(input(\" Nhập số b:\"))\n",
    "if a == 0 and b == 0:\n",
    "    print(\" Phương trình ax + b = 0 có vô số nghiệm. \")\n",
    "elif a == 0:\n",
    "    print(\" Phương trình ax + b =0 vô nghiệm. \")\n",
    "else:\n",
    "    x = -b/a\n",
    "    print(f\" Phương trình ax +b = 0 có nghiệm là:{x}\")"
   ]
  },
  {
   "cell_type": "code",
   "execution_count": 23,
   "id": "582cb3d8-98a6-4860-ade7-2bf7321d84b9",
   "metadata": {},
   "outputs": [
    {
     "name": "stdin",
     "output_type": "stream",
     "text": [
      " Nhập số a:  1 \n",
      " Nhập số b:  -2\n",
      " Nhập số c:  -1\n"
     ]
    },
    {
     "name": "stdout",
     "output_type": "stream",
     "text": [
      " Phương trình có hai nghiệm phân biệt là : 2.414213562373095 và -0.41421356237309515\n"
     ]
    }
   ],
   "source": [
    "#Bai5\n",
    "import math\n",
    "a = float(input(\" Nhập số a: \"))\n",
    "b = float(input(\" Nhập số b: \"))\n",
    "c = float(input(\" Nhập số c: \"))\n",
    "delta = b*b - 4*a*c\n",
    "if delta < 0:\n",
    "    print(\" Phương trình vô nghiệm. \")\n",
    "elif delta == 0:\n",
    "    x = -b/(2*a)\n",
    "    print(f' Phương trình có nghiệm duy nhất : {x}')\n",
    "else:\n",
    "    x_1 = ( -b + math.sqrt(delta))/(2*a)\n",
    "    x_2 = ( -b - math.sqrt(delta))/(2*a)\n",
    "    print( f' Phương trình có hai nghiệm phân biệt là : {x_1} và {x_2}')"
   ]
  },
  {
   "cell_type": "code",
   "execution_count": 25,
   "id": "5977f9a1-2e75-4ccf-a06c-7b26eb3308ac",
   "metadata": {},
   "outputs": [
    {
     "name": "stdin",
     "output_type": "stream",
     "text": [
      " Nhập bốn số a, b, c, d : 1 2 3 4\n"
     ]
    },
    {
     "name": "stdout",
     "output_type": "stream",
     "text": [
      " Số lớn nhất là:  4.0\n"
     ]
    }
   ],
   "source": [
    "#Bai6\n",
    "a, b, c, d = map(float, input(\" Nhập bốn số a, b, c, d :\").split())\n",
    "maximum = max(a, b, c, d)\n",
    "print(\" Số lớn nhất là: \", maximum)"
   ]
  },
  {
   "cell_type": "code",
   "execution_count": 28,
   "id": "dcf3f293-ab96-4a25-9460-3bb70bf5aece",
   "metadata": {},
   "outputs": [
    {
     "name": "stdin",
     "output_type": "stream",
     "text": [
      " Nhập bốn số a, b, c, d : 1.1 2.2 3.3 4.4\n"
     ]
    },
    {
     "name": "stdout",
     "output_type": "stream",
     "text": [
      " Số nhỏ nhất là:  1.1\n"
     ]
    }
   ],
   "source": [
    "#Bai7\n",
    "a, b, c, d = map(float, input(\" Nhập bốn số a, b, c, d :\").split())\n",
    "minimum = min(a, b, c, d)\n",
    "print(\" Số nhỏ nhất là: \", minimum)"
   ]
  },
  {
   "cell_type": "code",
   "execution_count": 31,
   "id": "ce3d916b-2cf0-4545-b314-216609200aa2",
   "metadata": {},
   "outputs": [
    {
     "name": "stdin",
     "output_type": "stream",
     "text": [
      " Nhập 6 số a, b, c, d, m, n:  1 2 1 2 3 3\n"
     ]
    },
    {
     "name": "stdout",
     "output_type": "stream",
     "text": [
      " Hệ phương trình có vô số nghiệm.\n"
     ]
    }
   ],
   "source": [
    "#Bai8\n",
    "a, b, c, d, m, n = map(float, input(\" Nhập 6 số a, b, c, d, m, n: \").split())\n",
    "if a/c == b/d == m/n:\n",
    "    print(\" Hệ phương trình có vô số nghiệm.\")\n",
    "elif a/c == b/d != m/n:\n",
    "    print(\" Hệ phương trình vô nghiệm. \")\n",
    "else:\n",
    "    x = ((b*n)/d-m)/((b*c)/d-a)\n",
    "    y = ((a*n)/c-m)/((a*d)/c-b)\n",
    "    print(f' Hệ phương trình có nghiệm là: x={x} và y={y}')"
   ]
  },
  {
   "cell_type": "code",
   "execution_count": 2,
   "id": "fa6f43aa-8546-4d84-9ce4-513aed90c330",
   "metadata": {},
   "outputs": [
    {
     "name": "stdin",
     "output_type": "stream",
     "text": [
      " Thời gian làm việc là:  145674\n"
     ]
    },
    {
     "name": "stdout",
     "output_type": "stream",
     "text": [
      " Thời gian làm việc là: 40 giờ 27 phút 54 giây\n"
     ]
    }
   ],
   "source": [
    "#Bai9\n",
    "thoi_gian = int(input(\" Thời gian làm việc là: \"))\n",
    "if thoi_gian < 0:\n",
    "   print(\" Lỗi thời gian\")\n",
    "else:\n",
    "   gio = thoi_gian//3600\n",
    "   phut = ( thoi_gian % 3600)//60\n",
    "   giay = ( thoi_gian % 3600) % 60\n",
    "   print(f' Thời gian làm việc là: {gio} giờ {phut} phút {giay} giây')\n",
    "                "
   ]
  },
  {
   "cell_type": "code",
   "execution_count": 36,
   "id": "af4e31aa-134e-489d-ace6-b653a6209a79",
   "metadata": {},
   "outputs": [
    {
     "name": "stdin",
     "output_type": "stream",
     "text": [
      " Tọa độ tâm hoành độ : 10\n",
      " Tọa độ tâm tung độ :  20\n",
      " Bán kinh đường tròn : 10\n",
      " Hoành độ điểm A:  5 \n",
      " Tung độ điểm A : 5\n"
     ]
    },
    {
     "name": "stdout",
     "output_type": "stream",
     "text": [
      " Điểm A nằm ngoài đường tròn. \n"
     ]
    }
   ],
   "source": [
    "#Bai10\n",
    "x = float(input(\" Tọa độ tâm hoành độ :\"))\n",
    "y = float(input(\" Tọa độ tâm tung độ : \"))\n",
    "r = float(input(\" Bán kinh đường tròn :\"))\n",
    "x_a = float(input(\" Hoành độ điểm A: \"))\n",
    "y_a = float(input(\" Tung độ điểm A :\"))\n",
    "if (x_a - x)**2 + (y_a - y)**2 > r**2:\n",
    "    print(\" Điểm A nằm ngoài đường tròn. \")\n",
    "elif (x_a - x)**2 +(y_a - y)**2 == r**2:\n",
    "    print(\" Điểm A nằm trên đường tròn. \")\n",
    "else:\n",
    "    print(\" Điểm A nằm trong đường tròn. \")"
   ]
  },
  {
   "cell_type": "code",
   "execution_count": 37,
   "id": "0f5f406c-f2a6-4311-83a4-f5474ea033ca",
   "metadata": {},
   "outputs": [
    {
     "name": "stdin",
     "output_type": "stream",
     "text": [
      " Nhập hai số x, y : 2 3\n"
     ]
    },
    {
     "name": "stdout",
     "output_type": "stream",
     "text": [
      "8.0\n"
     ]
    }
   ],
   "source": [
    "#Bai11\n",
    "x, y = map(float, input( \" Nhập hai số x, y :\").split())\n",
    "a = x**y\n",
    "print(a)"
   ]
  },
  {
   "cell_type": "code",
   "execution_count": null,
   "id": "f984e195-a55d-450e-8ee5-93922a9494cf",
   "metadata": {},
   "outputs": [],
   "source": []
  }
 ],
 "metadata": {
  "kernelspec": {
   "display_name": "Python 3 (ipykernel)",
   "language": "python",
   "name": "python3"
  },
  "language_info": {
   "codemirror_mode": {
    "name": "ipython",
    "version": 3
   },
   "file_extension": ".py",
   "mimetype": "text/x-python",
   "name": "python",
   "nbconvert_exporter": "python",
   "pygments_lexer": "ipython3",
   "version": "3.13.7"
  }
 },
 "nbformat": 4,
 "nbformat_minor": 5
}
