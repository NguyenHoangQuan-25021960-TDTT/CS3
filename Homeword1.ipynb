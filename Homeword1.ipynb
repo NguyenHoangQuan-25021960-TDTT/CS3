{
 "cells": [
  {
   "cell_type": "code",
   "execution_count": 1,
   "id": "cd699859-bb7d-4fde-9879-444627fc8481",
   "metadata": {},
   "outputs": [
    {
     "name": "stdin",
     "output_type": "stream",
     "text": [
      " 2\n"
     ]
    },
    {
     "name": "stdout",
     "output_type": "stream",
     "text": [
      "4\n"
     ]
    }
   ],
   "source": [
    "#Bai1\n",
    "a=int(input())\n",
    "print(a*2)\n"
   ]
  },
  {
   "cell_type": "code",
   "execution_count": 1,
   "id": "abf442bc-5578-41c6-a22c-dc7f7d2c2110",
   "metadata": {},
   "outputs": [
    {
     "name": "stdin",
     "output_type": "stream",
     "text": [
      " 10 \n",
      " 20\n"
     ]
    },
    {
     "name": "stdout",
     "output_type": "stream",
     "text": [
      "121.50\n"
     ]
    }
   ],
   "source": [
    "#Bai2\n",
    "a = int(input())\n",
    "b = int(input())\n",
    "Sdat = a*b\n",
    "r = min(a,b)/2\n",
    "Stron = 3.14*r*r\n",
    "Ket_qua = Sdat-Stron\n",
    "print(f'{Ket_qua:.2f}')\n"
   ]
  },
  {
   "cell_type": "code",
   "execution_count": 23,
   "id": "50e6beb5-9759-4232-bf25-673f92a1eff5",
   "metadata": {},
   "outputs": [
    {
     "name": "stdin",
     "output_type": "stream",
     "text": [
      " Nhập một kí tự:  C\n"
     ]
    },
    {
     "name": "stdout",
     "output_type": "stream",
     "text": [
      " Chữ in thường: c\n"
     ]
    }
   ],
   "source": [
    "#Bai3\n",
    "c = input(\" Nhập một kí tự: \")\n",
    "if c.isupper():\n",
    "    print(\" Chữ in thường:\", c.lower())\n",
    "else:\n",
    "    print(\" Chữ in hoa;\", c.supper())"
   ]
  },
  {
   "cell_type": "code",
   "execution_count": 7,
   "id": "93a96b5b-e755-4978-a856-1b6eaa7c02fa",
   "metadata": {},
   "outputs": [
    {
     "name": "stdin",
     "output_type": "stream",
     "text": [
      " Nhập một kí tự: 5\n"
     ]
    },
    {
     "name": "stdout",
     "output_type": "stream",
     "text": [
      " 5 không phải kí tự alphabet\n"
     ]
    }
   ],
   "source": [
    "#Bai4\n",
    "c = input(\" Nhập một kí tự:\" )\n",
    "if c.isalpha():\n",
    "    print(f\" {c} là kí tự alphabet\")\n",
    "else:\n",
    "    print(f\" {c} không phải kí tự alphabet\")"
   ]
  },
  {
   "cell_type": "code",
   "execution_count": 24,
   "id": "6907fa6f-a24e-44cf-ac29-b3b8701bab1a",
   "metadata": {},
   "outputs": [
    {
     "name": "stdin",
     "output_type": "stream",
     "text": [
      " Nhập một kí tự:  E\n"
     ]
    },
    {
     "name": "stdout",
     "output_type": "stream",
     "text": [
      " Chữ cái thường đứng trước e là d\n"
     ]
    }
   ],
   "source": [
    "#Bai5\n",
    "c = input(\" Nhập một kí tự: \")\n",
    "if c.isalpha() and c.isupper():\n",
    "    ch = c.lower()\n",
    "    if c == 'A':\n",
    "        print(\" Không có chữ cái thường đứng trước 'a' \")\n",
    "    else:\n",
    "        truoc = chr(ord(ch)-1)\n",
    "        print(f\" Chữ cái thường đứng trước {ch} là {truoc}\")\n",
    "else:\n",
    "    print(\" Vui lòng nhập một chữ cái hoa từ (A-Z)\")"
   ]
  },
  {
   "cell_type": "code",
   "execution_count": 28,
   "id": "94514abf-44a3-4486-87ba-0d3b73a46c5f",
   "metadata": {},
   "outputs": [
    {
     "name": "stdin",
     "output_type": "stream",
     "text": [
      "Nhập 3 số a, b, c: 2 3 4\n"
     ]
    },
    {
     "name": "stdout",
     "output_type": "stream",
     "text": [
      "Diện thích tam giác là: 2.9047375096555625\n"
     ]
    }
   ],
   "source": [
    "#Bai6\n",
    "import math\n",
    "a, b, c = map(float, input(\"Nhập 3 số a, b, c:\").split())\n",
    "if a+b>c and a+c>b and b+c>a:\n",
    "    p=(a + b + c)/2\n",
    "    S=math.sqrt(p*(p-a)*(p-b)*(p-c))\n",
    "    print(f\"Diện thích tam giác là: {S}\")\n",
    "else:\n",
    "    print(\" Không là ba cạnh của một tam giác.\")"
   ]
  },
  {
   "cell_type": "code",
   "execution_count": 32,
   "id": "7454ffe1-1525-4693-927c-64f241804c79",
   "metadata": {},
   "outputs": [
    {
     "name": "stdin",
     "output_type": "stream",
     "text": [
      "Nhập chuỗi kí tự: qưertyuiopasdfghjklz\n"
     ]
    },
    {
     "name": "stdout",
     "output_type": "stream",
     "text": [
      "Chữ cái thứ 5 là: t\n",
      "Chữ cái thứ 9 là: o\n"
     ]
    }
   ],
   "source": [
    "#Bai7\n",
    "a = input(\"Nhập chuỗi kí tự:\")\n",
    "if len(a) >= 20:\n",
    "   print(\"Chữ cái thứ 5 là:\", a[4])\n",
    "   print(\"Chữ cái thứ 9 là:\", a[8])\n",
    "else:\n",
    "    print(\" Nhập đủ ít nhất 20 kí tự\")"
   ]
  },
  {
   "cell_type": "code",
   "execution_count": 35,
   "id": "b97d55ab-9f26-4950-822e-708e93971f86",
   "metadata": {},
   "outputs": [
    {
     "name": "stdin",
     "output_type": "stream",
     "text": [
      " Tên chủ hộ: Nguyễn Hoàng Quân\n",
      " Chỉ số tháng trước: 2078\n",
      " Chỉ số tháng này: 2100\n"
     ]
    },
    {
     "name": "stdout",
     "output_type": "stream",
     "text": [
      " Họ và Tên: Nguyễn Hoàng Quân\n",
      " Số tiền phải trả: 47139\n"
     ]
    }
   ],
   "source": [
    "#Bai8\n",
    "ten = input(\" Tên chủ hộ:\")\n",
    "Thang_truoc = int(input(\" Chỉ số tháng trước:\"))\n",
    "Thang_nay = int(input(\" Chỉ số tháng này:\"))\n",
    "So_dien = Thang_nay - Thang_truoc\n",
    "tien = 0\n",
    "if So_dien <= 50:\n",
    "    tien = So_dien * 1984\n",
    "elif So_dien <= 100:\n",
    "    tien = 50 * 1984 + (So_dien-50) * 2050\n",
    "elif So_dien <= 200:\n",
    "    tien = 50 * 1984 + 50 * 2050 +(So_dien-100) * 2380\n",
    "elif So_dien <= 300:\n",
    "    tien = 50 * 1984 + 50 * 2050 + 100 * 2380 + (So_dien-200) * 2998\n",
    "elif So_dien <=400:\n",
    "    tien = 50 * 1984 + 50 * 2050 + 100 * 2380 + 100 * 2998 + (So_dien-300) * 3350\n",
    "else:\n",
    "    tien= 50 * 1984 + 50 * 2050 + 100 * 2380 + 100 * 2998 + 100 * 3350 +(So_dien-400) * 3460\n",
    "tien = int( tien * 1.08)\n",
    "print(\" Họ và Tên:\", ten)\n",
    "print(\" Số tiền phải trả:\", tien)\n"
   ]
  },
  {
   "cell_type": "code",
   "execution_count": null,
   "id": "1e6d32eb-45de-4bb6-8883-846c7d41b298",
   "metadata": {},
   "outputs": [],
   "source": []
  }
 ],
 "metadata": {
  "kernelspec": {
   "display_name": "Python 3 (ipykernel)",
   "language": "python",
   "name": "python3"
  },
  "language_info": {
   "codemirror_mode": {
    "name": "ipython",
    "version": 3
   },
   "file_extension": ".py",
   "mimetype": "text/x-python",
   "name": "python",
   "nbconvert_exporter": "python",
   "pygments_lexer": "ipython3",
   "version": "3.13.7"
  }
 },
 "nbformat": 4,
 "nbformat_minor": 5
}
