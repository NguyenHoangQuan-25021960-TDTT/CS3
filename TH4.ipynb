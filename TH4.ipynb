{
 "cells": [
  {
   "cell_type": "code",
   "execution_count": null,
   "id": "edd81e5d-b53b-4b2c-8523-e397d94906a7",
   "metadata": {},
   "outputs": [],
   "source": [
    "#for _ in range (start = 0, stop, step = 1):\n",
    "#range(stop): 0, 1, 2, 3, 4, 5 ... stop - 1\n",
    "#range(start, stop): start, start +1,start +2 ... stop - 1\n",
    "#range(start, stop, step): start,start + step, start + 2*step, ... , stop -1\n",
    "# break : là ngắt ngay khi gặp nhánh này\n",
    "# continue: tiếp tục lặp mà bỏ qua các lệnh phía sau"
   ]
  },
  {
   "cell_type": "code",
   "execution_count": 4,
   "id": "7982434c-0f48-445c-8d1d-46e7788e8ef7",
   "metadata": {},
   "outputs": [
    {
     "name": "stdin",
     "output_type": "stream",
     "text": [
      " 5\n"
     ]
    },
    {
     "name": "stdout",
     "output_type": "stream",
     "text": [
      "15\n"
     ]
    }
   ],
   "source": [
    "#W4A1\n",
    "n = int(input())\n",
    "Sum = 0\n",
    "for i in range(1, n+1):\n",
    "    Sum += i\n",
    "print(Sum)"
   ]
  },
  {
   "cell_type": "code",
   "execution_count": 7,
   "id": "33980c08-24e5-4e2e-b9be-6f56b4cf94f9",
   "metadata": {},
   "outputs": [
    {
     "name": "stdin",
     "output_type": "stream",
     "text": [
      " -9\n"
     ]
    },
    {
     "name": "stdout",
     "output_type": "stream",
     "text": [
      " So nguyen am a\n"
     ]
    }
   ],
   "source": [
    "try:\n",
    "    n = int(input())\n",
    "    if n > 0:\n",
    "       Sum = 0\n",
    "       for i in range(1, n+1):\n",
    "            Sum += i\n",
    "       print(Sum)\n",
    "    else:\n",
    "        print(\" So nguyen am a\")\n",
    "except ValueError:\n",
    "    print(\" Ban nhap khong phai so nguyen a\")"
   ]
  },
  {
   "cell_type": "code",
   "execution_count": 18,
   "id": "98a3dcfd-f54e-4069-8487-d1605e32c9df",
   "metadata": {},
   "outputs": [
    {
     "name": "stdout",
     "output_type": "stream",
     "text": [
      "0  khong la so nguyen to\n"
     ]
    }
   ],
   "source": [
    "#W4A2: Nhap mot so nguyen den khi duoc 1 so nguyen duong thi thoi\n",
    "import math as mt\n",
    "n = 0\n",
    "for _ in range (10000):\n",
    "    n = int(input(\" Nhập một số nguyên dương:\"))\n",
    "    if n > 0:\n",
    "       break\n",
    "    else:\n",
    "        continue # Chặn lại ở đây\n",
    "                print(\" Nhap lai so\")\n",
    "#print(n)\n",
    "# Kiem tra mot so co phai la mot so nguyen to hay khong\n",
    "#cnt = 0\n",
    "#for i in range(1, n+1):\n",
    "#    if n % i == 0:\n",
    "#        cnt += 1\n",
    "#if cnt == 2:\n",
    "#    print(n, 'la so nguyen to')\n",
    "#else:\n",
    "#    print(n, ' khong la so nguyen to')\n",
    "\n",
    "flag = False\n",
    "for i in range (2, int(mt.sqrt(n)) + 1):\n",
    "    if n % i == 0:\n",
    "        flag = False\n",
    "        break\n",
    "if flag:\n",
    "   print(n,' la so nguyen to')\n",
    "else:\n",
    "    print(n, ' khong la so nguyen to')\n"
   ]
  },
  {
   "cell_type": "code",
   "execution_count": null,
   "id": "e98ec41c-0b49-4771-8134-8b232a0c2d00",
   "metadata": {},
   "outputs": [],
   "source": []
  },
  {
   "cell_type": "code",
   "execution_count": null,
   "id": "70ba9aef-c3f4-410d-954e-2408443158f9",
   "metadata": {},
   "outputs": [],
   "source": []
  },
  {
   "cell_type": "code",
   "execution_count": null,
   "id": "aeb3c4b4-8a77-48d6-a97f-ff91ee112477",
   "metadata": {},
   "outputs": [],
   "source": []
  },
  {
   "cell_type": "code",
   "execution_count": null,
   "id": "d813289e-c917-4174-af01-bf6853d8b8a4",
   "metadata": {},
   "outputs": [],
   "source": []
  },
  {
   "cell_type": "code",
   "execution_count": null,
   "id": "dc723cec-0847-4ace-901f-623658d336cd",
   "metadata": {},
   "outputs": [],
   "source": []
  }
 ],
 "metadata": {
  "kernelspec": {
   "display_name": "Python 3 (ipykernel)",
   "language": "python",
   "name": "python3"
  },
  "language_info": {
   "codemirror_mode": {
    "name": "ipython",
    "version": 3
   },
   "file_extension": ".py",
   "mimetype": "text/x-python",
   "name": "python",
   "nbconvert_exporter": "python",
   "pygments_lexer": "ipython3",
   "version": "3.13.7"
  }
 },
 "nbformat": 4,
 "nbformat_minor": 5
}
