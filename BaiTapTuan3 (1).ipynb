{
 "cells": [
  {
   "cell_type": "code",
   "execution_count": 6,
   "id": "d840833c-abc2-4853-a753-b404004f4e5f",
   "metadata": {},
   "outputs": [
    {
     "name": "stdout",
     "output_type": "stream",
     "text": [
      "Hai số a, b sau khi đổi giá trị là: 7  và 6\n"
     ]
    }
   ],
   "source": [
    "#W3A2\n",
    "a = 6\n",
    "b = 7\n",
    "a = a ^ b\n",
    "b = a ^ b\n",
    "a = a ^ b\n",
    "print(\"Hai số a, b sau khi đổi giá trị là:\" , a, \" và\" , b)"
   ]
  },
  {
   "cell_type": "code",
   "execution_count": 12,
   "id": "59d02e70-ead4-4fb7-a543-d1bec26f4faa",
   "metadata": {},
   "outputs": [
    {
     "name": "stdout",
     "output_type": "stream",
     "text": [
      "1 Là lũy thừa của 2\n",
      "2 Là lũy thừa của 2\n",
      " 3 Không phải lũy thừa của 2\n",
      "4 Là lũy thừa của 2\n",
      " 7 Không phải lũy thừa của 2\n",
      "16 Là lũy thừa của 2\n",
      " 31 Không phải lũy thừa của 2\n",
      " 36 Không phải lũy thừa của 2\n"
     ]
    }
   ],
   "source": [
    "#W3A3\n",
    "numbers = [1, 2, 3, 4, 7, 16, 31, 36]\n",
    "for n in numbers:\n",
    "    if n & (n-1) == 0 :\n",
    "        print(f\"{n} Là lũy thừa của 2\")\n",
    "    else:\n",
    "        print(f\" {n} Không phải lũy thừa của 2\")"
   ]
  },
  {
   "cell_type": "code",
   "execution_count": 14,
   "id": "82d28efa-0f6c-492d-ae0c-d211d725a9bf",
   "metadata": {},
   "outputs": [
    {
     "name": "stdin",
     "output_type": "stream",
     "text": [
      " Số m = 9\n",
      " Số n = 4\n"
     ]
    },
    {
     "name": "stdout",
     "output_type": "stream",
     "text": [
      "Kết quả của m chia n làm tròn xuống là: 2\n"
     ]
    }
   ],
   "source": [
    "#W3A4\n",
    "import math\n",
    "m = float(input(\" Số m =\"))\n",
    "n = float(input(\" Số n =\"))\n",
    "x = m / n\n",
    "print(f'Kết quả của m chia n làm tròn xuống là:', math.floor(x))"
   ]
  },
  {
   "cell_type": "code",
   "execution_count": 16,
   "id": "39cb02bb-ce6e-4c80-b5ea-152298012711",
   "metadata": {},
   "outputs": [
    {
     "name": "stdin",
     "output_type": "stream",
     "text": [
      "m =  9 \n",
      "n =  4\n"
     ]
    },
    {
     "name": "stdout",
     "output_type": "stream",
     "text": [
      " Kết quả của m chia n làm tròn lên là: 3\n"
     ]
    }
   ],
   "source": [
    "#W3A5\n",
    "import math\n",
    "m = float(input(\"m = \"))\n",
    "n = float(input(\"n = \"))\n",
    "x = m / n\n",
    "print(f' Kết quả của m chia n làm tròn lên là:', math.ceil(x))"
   ]
  },
  {
   "cell_type": "code",
   "execution_count": 18,
   "id": "e9519af5-d45e-4d3d-9706-9e5bb758087e",
   "metadata": {},
   "outputs": [
    {
     "name": "stdin",
     "output_type": "stream",
     "text": [
      " Nhập số x:  5\n"
     ]
    },
    {
     "name": "stdout",
     "output_type": "stream",
     "text": [
      " Odd \n"
     ]
    }
   ],
   "source": [
    "#W3A6\n",
    "x = int(input(\" Nhập số x: \"))\n",
    "if x > 0:\n",
    "    if x % 2 ==0:\n",
    "        print(\" Even \")\n",
    "    else:\n",
    "        print(\" Odd \")\n",
    "else:\n",
    "    print(\" x không là số nguyên dương\")"
   ]
  },
  {
   "cell_type": "code",
   "execution_count": 19,
   "id": "c6a5fc2a-a52b-4455-83a5-e0aff3e67de3",
   "metadata": {},
   "outputs": [
    {
     "name": "stdin",
     "output_type": "stream",
     "text": [
      " Nhập hai số a,b: -2 3\n"
     ]
    },
    {
     "name": "stdout",
     "output_type": "stream",
     "text": [
      " No \n"
     ]
    }
   ],
   "source": [
    "#W3A7\n",
    "a, b = map(float, input(\" Nhập hai số a,b:\").split())\n",
    "if a < 0 and b < 0 :\n",
    "    print(\"Yes\")\n",
    "else:\n",
    "    print(\" No \")"
   ]
  },
  {
   "cell_type": "code",
   "execution_count": 20,
   "id": "380eb43a-2ebf-4a46-8fa3-9a3e677fada1",
   "metadata": {},
   "outputs": [
    {
     "name": "stdin",
     "output_type": "stream",
     "text": [
      " Chuỗi a: q ư e r t y u i\n",
      " Chuỗi b: s f h e a f h\n"
     ]
    },
    {
     "name": "stdout",
     "output_type": "stream",
     "text": [
      " Yes\n"
     ]
    }
   ],
   "source": [
    "#W3A8\n",
    "chuoi_a = input(\" Chuỗi a:\")\n",
    "chuoi_b = input(\" Chuỗi b:\")\n",
    "if len(chuoi_a) > len(chuoi_b):\n",
    "    print(\" Yes\")\n",
    "else:\n",
    "    print( \" No\")\n",
    "    "
   ]
  },
  {
   "cell_type": "code",
   "execution_count": 21,
   "id": "d7dbeb55-812f-4f6c-bba1-d442cf11f3c8",
   "metadata": {},
   "outputs": [
    {
     "name": "stdin",
     "output_type": "stream",
     "text": [
      " Nhập ba số: 3 4 5\n"
     ]
    },
    {
     "name": "stdout",
     "output_type": "stream",
     "text": [
      " Yes \n"
     ]
    }
   ],
   "source": [
    "#W3A9\n",
    "a ,b , c = map(float, input(\" Nhập ba số:\").split())\n",
    "if a + b > c and a + c > b and b + c > a:\n",
    "    print(\" Yes \")\n",
    "else:\n",
    "    print( \" No \")"
   ]
  },
  {
   "cell_type": "code",
   "execution_count": 23,
   "id": "f12ecc75-9483-4912-b96d-817a6b841599",
   "metadata": {},
   "outputs": [
    {
     "name": "stdin",
     "output_type": "stream",
     "text": [
      " Nhập 4 số:  1 2 3 4\n"
     ]
    },
    {
     "name": "stdout",
     "output_type": "stream",
     "text": [
      " Số lớn nhất là: 4\n"
     ]
    }
   ],
   "source": [
    "#W3A10\n",
    "a, b, c, d = map(int, input(\" Nhập 4 số: \").split())\n",
    "lon_nhat = max(a, b, c, d)\n",
    "print(\" Số lớn nhất là:\" , lon_nhat)\n"
   ]
  },
  {
   "cell_type": "code",
   "execution_count": 1,
   "id": "ab5c79ee-a5fc-4884-9e41-8e83c5cfa2e4",
   "metadata": {},
   "outputs": [
    {
     "name": "stdin",
     "output_type": "stream",
     "text": [
      " 3 4 5\n"
     ]
    },
    {
     "name": "stdout",
     "output_type": "stream",
     "text": [
      " Đây là tam giác thường\n"
     ]
    }
   ],
   "source": [
    "#W3A11\n",
    "a, b, c = map(float, input(\"\").split())\n",
    "if a+b>c and a+c>b and b+c>a:\n",
    "    if a==b==c:\n",
    "        print(\" Đây là tam giác đều \")\n",
    "    elif a==b!=c or a==c!=b or b==c!=a:\n",
    "        print(\" Đây là tam giác cân\")\n",
    "    else:\n",
    "        print(\" Đây là tam giác thường\")\n",
    "else:\n",
    "    print(\" Đây không phải ba cạnh của một tam giác\")"
   ]
  },
  {
   "cell_type": "code",
   "execution_count": 3,
   "id": "d3bc37c8-fad1-4230-9cd3-b2f97853d6bb",
   "metadata": {},
   "outputs": [
    {
     "name": "stdin",
     "output_type": "stream",
     "text": [
      " 2024\n"
     ]
    },
    {
     "name": "stdout",
     "output_type": "stream",
     "text": [
      " Yes\n"
     ]
    }
   ],
   "source": [
    "#W3A12\n",
    "nam = int(input(\"\"))\n",
    "if nam % 4 ==0 and nam % 100 != 0 or nam % 400 != 0:\n",
    "    print(\" Yes\")\n",
    "else:\n",
    "    print(\" No\")"
   ]
  },
  {
   "cell_type": "code",
   "execution_count": 3,
   "id": "a8565753-72bf-4655-bee3-75dc86dc780f",
   "metadata": {},
   "outputs": [
    {
     "name": "stdin",
     "output_type": "stream",
     "text": [
      " 2 4\n"
     ]
    },
    {
     "name": "stdout",
     "output_type": "stream",
     "text": [
      " Phương trình ax + b = 0 có nghiệm là : x = -2.0\n"
     ]
    }
   ],
   "source": [
    "#W3A14\n",
    "a, b = map(float, input(\"\").split())\n",
    "if a == 0:\n",
    "    print(\" Phương trình ax + b = 0 vô nghiệm\")\n",
    "elif a == 0 and b == 0:\n",
    "    print(\" Phương trình ax + b = 0 có vô số nghiệm\")\n",
    "else:\n",
    "    x = -b/a\n",
    "    print(f' Phương trình ax + b = 0 có nghiệm là : x = {x}')"
   ]
  },
  {
   "cell_type": "code",
   "execution_count": 6,
   "id": "c0a58dff-9f69-4c20-8d80-8a92ca55ff7b",
   "metadata": {},
   "outputs": [
    {
     "name": "stdin",
     "output_type": "stream",
     "text": [
      " Điểm trung bình: 7.9\n"
     ]
    },
    {
     "name": "stdout",
     "output_type": "stream",
     "text": [
      " Khá\n"
     ]
    }
   ],
   "source": [
    "#W3A15\n",
    "a = float(input(\" Điểm trung bình:\"))\n",
    "if a >= 8:\n",
    "    print(\" Giỏi\")\n",
    "elif a >= 6.5:\n",
    "    print( \" Khá\")\n",
    "elif a >= 5:\n",
    "    print(\" Trung binhg\")\n",
    "else:\n",
    "    print(\" Yếu\")"
   ]
  },
  {
   "cell_type": "code",
   "execution_count": null,
   "id": "8138e55e-a50f-4b70-ad78-ae5e750aa519",
   "metadata": {},
   "outputs": [],
   "source": [
    "#W3A16\n"
   ]
  }
 ],
 "metadata": {
  "kernelspec": {
   "display_name": "Python 3 (ipykernel)",
   "language": "python",
   "name": "python3"
  },
  "language_info": {
   "codemirror_mode": {
    "name": "ipython",
    "version": 3
   },
   "file_extension": ".py",
   "mimetype": "text/x-python",
   "name": "python",
   "nbconvert_exporter": "python",
   "pygments_lexer": "ipython3",
   "version": "3.13.7"
  }
 },
 "nbformat": 4,
 "nbformat_minor": 5
}
